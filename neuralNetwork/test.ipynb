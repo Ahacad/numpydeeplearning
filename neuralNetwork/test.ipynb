{
 "cells": [
  {
   "cell_type": "code",
   "execution_count": 3,
   "metadata": {},
   "outputs": [],
   "source": [
    "def loadMnist(path, kind='train'):\n",
    "    '''\n",
    "    import the MNIST dataset from path, which is the path of the folder\n",
    "    kind should be either 'train', which is the training set or 't10k', meaning test-10k pictures\n",
    "    '''\n",
    "    imagePath = os.path.join(path, '%s-images.idx3-ubyte' % kind)\n",
    "    labelPath = os.path.join(path, '%s-labels.idx1-ubyte' % kind)\n",
    "\n",
    "    with open(labelPath, 'rb') as lbp:\n",
    "        magic, n = struct.unpack('>II', lbp.read(8))\n",
    "        label = np.fromfile(lbp, dtype=np.uint8)\n",
    "\n",
    "    with open(imagePath, 'rb') as imp:\n",
    "        magic, num, rows, columns = struct.unpack('>IIII', imp.read(16))\n",
    "        image = np.fromfile(imp, dtype=np.uint8)\n",
    "        image = image.reshape(len(label),784)\n",
    "\n",
    "    return image, label,"
   ]
  },
  {
   "cell_type": "code",
   "execution_count": 13,
   "metadata": {},
   "outputs": [],
   "source": [
    "import numpy as np\n",
    "import os \n",
    "import struct\n",
    "import pandas as pd"
   ]
  },
  {
   "cell_type": "code",
   "execution_count": 5,
   "metadata": {},
   "outputs": [],
   "source": [
    "trainSet, trainLabels = loadMnist('MNIST', 'train')\n",
    "test, testLabels = loadMnist('MNIST', 't10k')"
   ]
  },
  {
   "cell_type": "code",
   "execution_count": 9,
   "metadata": {},
   "outputs": [
    {
     "data": {
      "text/plain": [
       "5"
      ]
     },
     "execution_count": 9,
     "metadata": {},
     "output_type": "execute_result"
    }
   ],
   "source": [
    "trainLabels[0]"
   ]
  },
  {
   "cell_type": "code",
   "execution_count": 14,
   "metadata": {},
   "outputs": [
    {
     "data": {
      "text/plain": [
       "array([7, 2, 1, 0, 4, 9, 5, 6, 3, 8], dtype=uint64)"
      ]
     },
     "execution_count": 14,
     "metadata": {},
     "output_type": "execute_result"
    }
   ],
   "source": [
    "pd.Series(testLabels).unique()"
   ]
  },
  {
   "cell_type": "code",
   "execution_count": null,
   "metadata": {},
   "outputs": [],
   "source": []
  },
  {
   "cell_type": "code",
   "execution_count": 17,
   "metadata": {},
   "outputs": [],
   "source": [
    "import scipy"
   ]
  },
  {
   "cell_type": "code",
   "execution_count": null,
   "metadata": {},
   "outputs": [
    {
     "name": "stderr",
     "output_type": "stream",
     "text": [
      "D:\\Programs\\Anaconda\\lib\\site-packages\\ipykernel_launcher.py:33: RuntimeWarning: overflow encountered in multiply\n",
      "D:\\Programs\\Anaconda\\lib\\site-packages\\ipykernel_launcher.py:33: RuntimeWarning: invalid value encountered in add\n"
     ]
    }
   ],
   "source": [
    "import scipy.special\n",
    "import numpy as np\n",
    "import os \n",
    "import struct\n",
    "\n",
    "class neuralNetwork:\n",
    "\n",
    "    def __init__(self, inNodes, hiddenNodes, outNodes, lr, activation='sigmoid'):\n",
    "        self.inNodes = inNodes\n",
    "        self.hiddenNodes = hiddenNodes\n",
    "        self.outNodes = outNodes\n",
    "        self.lr = lr\n",
    "        self.wih = np.random.normal(0.0, pow(self.hiddenNodes, -0.5), (self.hiddenNodes, self.inNodes))\n",
    "        self.who = np.random.normal(0.0, pow(self.outNodes, -0.5), (self.outNodes, self.hiddenNodes))\n",
    "        def SIGMOID(x):\n",
    "            return 1/(1+np.exp(-x))\n",
    "\n",
    "        if activation == 'sigmoid':\n",
    "            self.activation = lambda x:scipy.special.expit(x)\n",
    "        else:\n",
    "            self.activation = lambda x:x\n",
    "        \n",
    "    def train(self, inputVector,labels):\n",
    "        inputs = inputVector.reshape(-1,1)\n",
    "        labels = labels.reshape(-1,1)\n",
    "        hiddenInputs = np.dot(self.wih, inputs)\n",
    "        hiddenOutputs = self.activation(hiddenInputs)\n",
    "        finalInputs = np.dot(self.who, hiddenOutputs)\n",
    "        finalOutputs = self.activation(finalInputs)\n",
    "        outputError = labels - finalOutputs\n",
    "        hiddenError = np.dot(self.who.T, outputError)\n",
    "        self.who += self.lr*np.dot(outputError*finalOutputs*(1-finalOutputs), hiddenOutputs.T)\n",
    "        self.wih += self.lr*np.dot(hiddenError*hiddenInputs*(1-hiddenInputs), inputs.T)\n",
    "   \n",
    "    def forward(self, inputVector):\n",
    "        inputs = inputVector.reshape(-1,1)\n",
    "        hiddenInputs = np.dot(self.wih, inputs)\n",
    "        hiddenOutputs = self.activation(hiddenInputs)\n",
    "        finalInputs = np.dot(self.who, hiddenOutputs)\n",
    "        finalOutputs = self.activation(finalInputs)\n",
    "        \n",
    "        return finalOutputs\n",
    "\n",
    "        \n",
    "def loadMnist(path, kind='train'):\n",
    "    '''\n",
    "    import the MNIST dataset from path, which is the path of the folder\n",
    "    kind should be either 'train', which is the training set or 't10k', meaning test-10k pictures\n",
    "    '''\n",
    "    imagePath = os.path.join(path, '%s-images.idx3-ubyte' % kind)\n",
    "    labelPath = os.path.join(path, '%s-labels.idx1-ubyte' % kind)\n",
    "\n",
    "    with open(labelPath, 'rb') as lbp:\n",
    "        magic, n = struct.unpack('>II', lbp.read(8))\n",
    "        label = np.fromfile(lbp, dtype=np.uint8)\n",
    "\n",
    "    with open(imagePath, 'rb') as imp:\n",
    "        magic, num, rows, columns = struct.unpack('>IIII', imp.read(16))\n",
    "        image = np.fromfile(imp, dtype=np.uint8)\n",
    "        image = image.reshape(len(label),784)\n",
    "\n",
    "    return image, label, \n",
    "    \n",
    "trainSet, trainLabels = loadMnist('MNIST', 'train')\n",
    "test, testLabels = loadMnist('MNIST', 't10k')\n",
    "trainSet = (np.asfarray(trainSet[:]) /255 *0.99)+0.01\n",
    "test = (np.asfarray(test[:]) /255 *0.99)+0.01\n",
    "nn = neuralNetwork(trainSet[0].shape[0], 1000, 12, 1)\n",
    "for i in range(1000):\n",
    "    nn.train(trainSet[i], trainLabels[i])\n",
    "\n",
    "for i in range(300):\n",
    "    outputArg = np.argmax(nn.forward(test[i]).reshape(-1))\n",
    "    right = 0\n",
    "    if outputArg == trainLabels[i]:\n",
    "        right += 1\n",
    "print('accuracy = %f' % (right/30))\n"
   ]
  },
  {
   "cell_type": "code",
   "execution_count": null,
   "metadata": {},
   "outputs": [],
   "source": []
  }
 ],
 "metadata": {
  "kernelspec": {
   "display_name": "Python 3",
   "language": "python",
   "name": "python3"
  },
  "language_info": {
   "codemirror_mode": {
    "name": "ipython",
    "version": 3
   },
   "file_extension": ".py",
   "mimetype": "text/x-python",
   "name": "python",
   "nbconvert_exporter": "python",
   "pygments_lexer": "ipython3",
   "version": "3.7.4"
  }
 },
 "nbformat": 4,
 "nbformat_minor": 2
}
